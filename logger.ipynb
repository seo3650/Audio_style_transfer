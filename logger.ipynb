{
  "cells": [
    {
      "cell_type": "code",
      "metadata": {},
      "source": [
        "# import tensorflow as tf\n",
        "from tensorboardX import SummaryWriter\n",
        "\n",
        "# class Logger(object):\n",
        "#     \"\"\"Tensorflow Tensorboard logger.\"\"\"\n",
        "\n",
        "#     def __init__(self, log_dir):\n",
        "#         \"\"\"Initialize summary writer.\"\"\"\n",
        "#         self.writer = tf.summary.FileWriter(log_dir)\n",
        "\n",
        "#     def scalar_summary(self, tag, value, step):\n",
        "#         \"\"\"Add scalar summary.\"\"\"\n",
        "#         summary = tf.Summary(value=[tf.Summary.Value(tag=tag, simple_value=value)])\n",
        "#         self.writer.add_summary(summary, step)\n",
        "\n",
        "class Logger(object):\n",
        "    \"\"\"Using tensorboardX such that need no dependency on tensorflow.\"\"\"\n",
        "\n",
        "    def __init__(self, log_dir):\n",
        "        \"\"\"Initialize summary writer.\"\"\"\n",
        "        self.writer = SummaryWriter(log_dir)\n",
        "\n",
        "    def scalar_summary(self, tag, value, step):\n",
        "        self.writer.add_scalar(tag, value, step)"
      ],
      "outputs": [],
      "execution_count": null
    }
  ],
  "metadata": {
    "anaconda-cloud": {},
    "kernelspec": {
      "display_name": "Python 3",
      "language": "python",
      "name": "python3"
    },
    "language_info": {
      "codemirror_mode": {
        "name": "ipython",
        "version": 3
      },
      "file_extension": ".py",
      "mimetype": "text/x-python",
      "name": "python",
      "nbconvert_exporter": "python",
      "pygments_lexer": "ipython3",
      "version": "3.6.1"
    }
  },
  "nbformat": 4,
  "nbformat_minor": 4
}